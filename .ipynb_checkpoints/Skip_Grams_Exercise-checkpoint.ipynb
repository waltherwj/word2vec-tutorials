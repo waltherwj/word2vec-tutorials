{
 "cells": [
  {
   "cell_type": "markdown",
   "metadata": {},
   "source": [
    "# Skip-gram Word2Vec\n",
    "\n",
    "In this notebook, I'll lead you through using PyTorch to implement the [Word2Vec algorithm](https://en.wikipedia.org/wiki/Word2vec) using the skip-gram architecture. By implementing this, you'll learn about embedding words for use in natural language processing. This will come in handy when dealing with things like machine translation.\n",
    "\n",
    "## Readings\n",
    "\n",
    "Here are the resources I used to build this notebook. I suggest reading these either beforehand or while you're working on this material.\n",
    "\n",
    "* A really good [conceptual overview](http://mccormickml.com/2016/04/19/word2vec-tutorial-the-skip-gram-model/) of Word2Vec from Chris McCormick \n",
    "* [First Word2Vec paper](https://arxiv.org/pdf/1301.3781.pdf) from Mikolov et al.\n",
    "* [Neural Information Processing Systems, paper](http://papers.nips.cc/paper/5021-distributed-representations-of-words-and-phrases-and-their-compositionality.pdf) with improvements for Word2Vec also from Mikolov et al.\n",
    "\n",
    "---\n",
    "## Word embeddings\n",
    "\n",
    "When you're dealing with words in text, you end up with tens of thousands of word classes to analyze; one for each word in a vocabulary. Trying to one-hot encode these words is massively inefficient because most values in a one-hot vector will be set to zero. So, the matrix multiplication that happens in between a one-hot input vector and a first, hidden layer will result in mostly zero-valued hidden outputs.\n",
    "\n",
    "<img src='assets/one_hot_encoding.png' width=50%>\n",
    "\n",
    "To solve this problem and greatly increase the efficiency of our networks, we use what are called **embeddings**. Embeddings are just a fully connected layer like you've seen before. We call this layer the embedding layer and the weights are embedding weights. We skip the multiplication into the embedding layer by instead directly grabbing the hidden layer values from the weight matrix. We can do this because the multiplication of a one-hot encoded vector with a matrix returns the row of the matrix corresponding the index of the \"on\" input unit.\n",
    "\n",
    "<img src='assets/lookup_matrix.png' width=50%>\n",
    "\n",
    "Instead of doing the matrix multiplication, we use the weight matrix as a lookup table. We encode the words as integers, for example \"heart\" is encoded as 958, \"mind\" as 18094. Then to get hidden layer values for \"heart\", you just take the 958th row of the embedding matrix. This process is called an **embedding lookup** and the number of hidden units is the **embedding dimension**.\n",
    "\n",
    "<img src='assets/tokenize_lookup.png' width=50%>\n",
    " \n",
    "There is nothing magical going on here. The embedding lookup table is just a weight matrix. The embedding layer is just a hidden layer. The lookup is just a shortcut for the matrix multiplication. The lookup table is trained just like any weight matrix.\n",
    "\n",
    "Embeddings aren't only used for words of course. You can use them for any model where you have a massive number of classes. A particular type of model called **Word2Vec** uses the embedding layer to find vector representations of words that contain semantic meaning."
   ]
  },
  {
   "cell_type": "markdown",
   "metadata": {},
   "source": [
    "---\n",
    "## Word2Vec\n",
    "\n",
    "The Word2Vec algorithm finds much more efficient representations by finding vectors that represent the words. These vectors also contain semantic information about the words.\n",
    "\n",
    "<img src=\"assets/context_drink.png\" width=40%>\n",
    "\n",
    "Words that show up in similar **contexts**, such as \"coffee\", \"tea\", and \"water\" will have vectors near each other. Different words will be further away from one another, and relationships can be represented by distance in vector space.\n",
    "\n",
    "<img src=\"assets/vector_distance.png\" width=40%>\n",
    "\n",
    "\n",
    "There are two architectures for implementing Word2Vec:\n",
    ">* CBOW (Continuous Bag-Of-Words) and \n",
    "* Skip-gram\n",
    "\n",
    "<img src=\"assets/word2vec_architectures.png\" width=60%>\n",
    "\n",
    "In this implementation, we'll be using the **skip-gram architecture** because it performs better than CBOW. Here, we pass in a word and try to predict the words surrounding it in the text. In this way, we can train the network to learn representations for words that show up in similar contexts."
   ]
  },
  {
   "cell_type": "markdown",
   "metadata": {},
   "source": [
    "---\n",
    "## Loading Data\n",
    "\n",
    "Next, we'll ask you to load in data and place it in the `data` directory\n",
    "\n",
    "1. Load the [text8 dataset](https://s3.amazonaws.com/video.udacity-data.com/topher/2018/October/5bbe6499_text8/text8.zip); a file of cleaned up *Wikipedia article text* from Matt Mahoney. \n",
    "2. Place that data in the `data` folder in the home directory.\n",
    "3. Then you can extract it and delete the archive, zip file to save storage space.\n",
    "\n",
    "After following these steps, you should have one file in your data directory: `data/text8`."
   ]
  },
  {
   "cell_type": "code",
   "execution_count": 1,
   "metadata": {},
   "outputs": [
    {
     "name": "stdout",
     "output_type": "stream",
     "text": [
      " anarchism originated as a term of abuse first used against early working class radicals including t\n"
     ]
    }
   ],
   "source": [
    "# read in the extracted text file      \n",
    "with open('data/text8') as f:\n",
    "    text = f.read()\n",
    "\n",
    "# print out the first 100 characters\n",
    "print(text[:100])"
   ]
  },
  {
   "cell_type": "markdown",
   "metadata": {},
   "source": [
    "## Pre-processing\n",
    "\n",
    "Here I'm fixing up the text to make training easier. This comes from the `utils.py` file. The `preprocess` function does a few things:\n",
    ">* It converts any punctuation into tokens, so a period is changed to ` <PERIOD> `. In this data set, there aren't any periods, but it will help in other NLP problems. \n",
    "* It removes all words that show up five or *fewer* times in the dataset. This will greatly reduce issues due to noise in the data and improve the quality of the vector representations. \n",
    "* It returns a list of words in the text.\n",
    "\n",
    "This may take a few seconds to run, since our text file is quite large. If you want to write your own functions for this stuff, go for it!"
   ]
  },
  {
   "cell_type": "code",
   "execution_count": 2,
   "metadata": {},
   "outputs": [
    {
     "name": "stdout",
     "output_type": "stream",
     "text": [
      "['anarchism', 'originated', 'as', 'a', 'term', 'of', 'abuse', 'first', 'used', 'against', 'early', 'working', 'class', 'radicals', 'including', 'the', 'diggers', 'of', 'the', 'english', 'revolution', 'and', 'the', 'sans', 'culottes', 'of', 'the', 'french', 'revolution', 'whilst']\n"
     ]
    }
   ],
   "source": [
    "import utils\n",
    "\n",
    "# get list of words\n",
    "words = utils.preprocess(text)\n",
    "print(words[:30])"
   ]
  },
  {
   "cell_type": "code",
   "execution_count": 3,
   "metadata": {},
   "outputs": [
    {
     "name": "stdout",
     "output_type": "stream",
     "text": [
      "Total words in text: 16680599\n",
      "Unique words: 63641\n"
     ]
    }
   ],
   "source": [
    "# print some stats about this word data\n",
    "print(\"Total words in text: {}\".format(len(words)))\n",
    "print(\"Unique words: {}\".format(len(set(words)))) # `set` removes any duplicate words"
   ]
  },
  {
   "cell_type": "markdown",
   "metadata": {},
   "source": [
    "### Dictionaries\n",
    "\n",
    "Next, I'm creating two dictionaries to convert words to integers and back again (integers to words). This is again done with a function in the `utils.py` file. `create_lookup_tables` takes in a list of words in a text and returns two dictionaries.\n",
    ">* The integers are assigned in descending frequency order, so the most frequent word (\"the\") is given the integer 0 and the next most frequent is 1, and so on. \n",
    "\n",
    "Once we have our dictionaries, the words are converted to integers and stored in the list `int_words`."
   ]
  },
  {
   "cell_type": "code",
   "execution_count": 4,
   "metadata": {},
   "outputs": [
    {
     "name": "stdout",
     "output_type": "stream",
     "text": [
      "[5233, 3080, 11, 5, 194, 1, 3133, 45, 58, 155, 127, 741, 476, 10571, 133, 0, 27349, 1, 0, 102, 854, 2, 0, 15067, 58112, 1, 0, 150, 854, 3580]\n"
     ]
    }
   ],
   "source": [
    "vocab_to_int, int_to_vocab = utils.create_lookup_tables(words)\n",
    "int_words = [vocab_to_int[word] for word in words]\n",
    "\n",
    "print(int_words[:30])"
   ]
  },
  {
   "cell_type": "markdown",
   "metadata": {},
   "source": [
    "## Subsampling\n",
    "\n",
    "Words that show up often such as \"the\", \"of\", and \"for\" don't provide much context to the nearby words. If we discard some of them, we can remove some of the noise from our data and in return get faster training and better representations. This process is called subsampling by Mikolov. For each word $w_i$ in the training set, we'll discard it with probability given by \n",
    "\n",
    "$$ P(w_i) = 1 - \\sqrt{\\frac{t}{f(w_i)}} $$\n",
    "\n",
    "where $t$ is a threshold parameter and $f(w_i)$ is the frequency of word $w_i$ in the total dataset.\n",
    "\n",
    "$$ P(0) = 1 - \\sqrt{\\frac{1*10^{-5}}{1*10^6/16*10^6}} = 0.98735 $$\n",
    "\n",
    "I'm going to leave this up to you as an exercise. Check out my solution to see how I did it.\n",
    "\n",
    "> **Exercise:** Implement subsampling for the words in `int_words`. That is, go through `int_words` and discard each word given the probablility $P(w_i)$ shown above. Note that $P(w_i)$ is the probability that a word is discarded. Assign the subsampled data to `train_words`."
   ]
  },
  {
   "cell_type": "code",
   "execution_count": 292,
   "metadata": {},
   "outputs": [
    {
     "data": {
      "text/plain": [
       "0.5922592551918489"
      ]
     },
     "execution_count": 292,
     "metadata": {},
     "output_type": "execute_result"
    }
   ],
   "source": []
  },
  {
   "cell_type": "code",
   "execution_count": 330,
   "metadata": {
    "scrolled": true
   },
   "outputs": [
    {
     "name": "stdout",
     "output_type": "stream",
     "text": [
      "[(5233, 303), (3080, 572), (11, 131815), (5, 325873), (194, 7219), (1, 593677), (3133, 563), (45, 28810), (58, 22737), (155, 8432)]\n",
      "6% done\n",
      "12% done\n",
      "18% done\n",
      "24% done\n",
      "30% done\n",
      "36% done\n",
      "42% done\n",
      "48% done\n",
      "54% done\n",
      "60% done\n",
      "66% done\n",
      "72% done\n",
      "78% done\n",
      "84% done\n",
      "90% done\n",
      "96% done\n",
      "100% done\n"
     ]
    }
   ],
   "source": [
    "from collections import Counter\n",
    "import random\n",
    "import numpy as np\n",
    "\n",
    "threshold = 1e-5\n",
    "word_counts = Counter(int_words)\n",
    "print(list(word_counts.items())[0:10])  # dictionary of int_words, how many times they appear\n",
    "\n",
    "# discard some frequent words, according to the subsampling equation\n",
    "# create a new list of words for training\n",
    "train_words = []\n",
    "total_words = len(int_words)\n",
    "t = 1e-5\n",
    "print_every = 1000000\n",
    "i=0\n",
    "count_keep = 0\n",
    "count_drop = 0\n",
    "for word in int_words:\n",
    "    i += 1\n",
    "    \n",
    "    rel_frequency = word_counts[word]/total_words\n",
    "    prob = 1 - np.sqrt(t/rel_frequency) \n",
    "    \n",
    "    #print(\"{} {} {}\".format(word, int_to_vocab[word] , prob))\n",
    "    if i % print_every == 0:\n",
    "        print(\"{:2.0%} done\".format(i/total_words))\n",
    "        \n",
    "    rndm = np.random.rand()  \n",
    "    \n",
    "    if (rndm > (prob)):\n",
    "        #print(np.random.rand(1).item())\n",
    "        #print(prob)\n",
    "        #print(int_to_vocab[word])\n",
    "        #print(st)\n",
    "        \n",
    "        count_keep += 1\n",
    "        train_words.append(word)\n",
    "    else:\n",
    "        #print(\"dropping {} because {:0.2} < {:0.2}\".format(int_to_vocab[word],random,(1-prob) ))\n",
    "        count_drop += 1\n",
    "print(\"{:2.0%} done\".format(i/total_words))\n",
    "#print(train_words[:30])"
   ]
  },
  {
   "cell_type": "code",
   "execution_count": 310,
   "metadata": {},
   "outputs": [
    {
     "name": "stdout",
     "output_type": "stream",
     "text": [
      "0.0026592570206861277\n",
      "1e-05\n",
      "0.0037604488480093784\n",
      "24110\n",
      "9474\n",
      "12275\n",
      "16680599\n"
     ]
    }
   ],
   "source": [
    "print(rel_frequency)\n",
    "print(t)\n",
    "print(t/rel_frequency)\n",
    "print(count_drop)\n",
    "print(count_keep)\n",
    "print(word_counts[100])\n",
    "print(total_words)\n",
    "#print(word_counts)"
   ]
  },
  {
   "cell_type": "code",
   "execution_count": 311,
   "metadata": {},
   "outputs": [
    {
     "name": "stdout",
     "output_type": "stream",
     "text": [
      "[5233, 3080, 194, 3133, 127, 10571, 27349, 102, 15067, 58112, 3580, 10712, 5, 2757, 7088, 248, 44611, 5233, 5, 8983, 4147, 4186, 153, 5233, 447, 1818, 4860, 6753, 7573, 11064]\n"
     ]
    }
   ],
   "source": [
    "print(train_words[:30])"
   ]
  },
  {
   "cell_type": "code",
   "execution_count": 312,
   "metadata": {},
   "outputs": [
    {
     "name": "stdout",
     "output_type": "stream",
     "text": [
      "anarchism\n",
      "originated\n",
      "used\n",
      "working\n",
      "radicals\n",
      "diggers\n",
      "sans\n",
      "culottes\n",
      "whilst\n",
      "still\n",
      "pejorative\n",
      "to\n",
      "any\n",
      "violent\n",
      "destroy\n",
      "organization\n",
      "been\n",
      "anarchists\n",
      "anarchism\n",
      "derived\n",
      "archons\n",
      "ruler\n",
      "anarchism\n",
      "unnecessary\n",
      "abolished\n",
      "differing\n",
      "interpretations\n",
      "means\n",
      "social\n",
      "movements\n"
     ]
    }
   ],
   "source": [
    "for word in [5233, 3080, 58, 741, 10571, 27349, 15067, 58112, 3580, 190, 10712, 6, 104, 2731, 3672, 708, 53, 7088, 5233, 1052, 44611, 2877, 5233, 8983, 4147, 6437, 4186, 362, 344, 1818]:\n",
    "    print(int_to_vocab[word])"
   ]
  },
  {
   "cell_type": "code",
   "execution_count": 285,
   "metadata": {},
   "outputs": [
    {
     "name": "stdout",
     "output_type": "stream",
     "text": [
      "[741, 1, 6, 3080, 2731, 97, 15200, 7088, 63, 666, 4861, 5233, 19, 3080, 5233, 153, 1774, 11, 5233, 8, 0, 3080, 5233, 11, 1774, 5233, 6, 127, 1, 97]\n",
      "working\n",
      "of\n",
      "to\n",
      "originated\n",
      "violent\n",
      "up\n",
      "coercive\n",
      "anarchists\n",
      "american\n",
      "types\n",
      "chaos\n",
      "anarchism\n",
      "that\n",
      "originated\n",
      "anarchism\n",
      "what\n",
      "institutions\n",
      "as\n",
      "anarchism\n",
      "nine\n",
      "the\n",
      "originated\n",
      "anarchism\n",
      "as\n",
      "institutions\n",
      "anarchism\n",
      "to\n",
      "early\n",
      "of\n",
      "up\n",
      "25276\n"
     ]
    }
   ],
   "source": [
    "print(train_words[:30])\n",
    "for word in train_words[:30]:\n",
    "    print(int_to_vocab[word])\n",
    "\n",
    "print(len(train_words))\n"
   ]
  },
  {
   "cell_type": "markdown",
   "metadata": {},
   "source": [
    "## Making batches"
   ]
  },
  {
   "cell_type": "markdown",
   "metadata": {},
   "source": [
    "Now that our data is in good shape, we need to get it into the proper form to pass it into our network. With the skip-gram architecture, for each word in the text, we want to define a surrounding _context_ and grab all the words in a window around that word, with size $C$. \n",
    "\n",
    "From [Mikolov et al.](https://arxiv.org/pdf/1301.3781.pdf): \n",
    "\n",
    "\"Since the more distant words are usually less related to the current word than those close to it, we give less weight to the distant words by sampling less from those words in our training examples... If we choose $C = 5$, for each training word we will select randomly a number $R$ in range $[ 1: C ]$, and then use $R$ words from history and $R$ words from the future of the current word as correct labels.\"\n",
    "\n",
    "> **Exercise:** Implement a function `get_target` that receives a list of words, an index, and a window size, then returns a list of words in the window around the index. Make sure to use the algorithm described above, where you chose a random number of words to from the window.\n",
    "\n",
    "Say, we have an input and we're interested in the idx=2 token, `741`: \n",
    "```\n",
    "[5233, 58, 741, 10571, 27349, 0, 15067, 58112, 3580, 58, 10712]\n",
    "```\n",
    "\n",
    "For `R=2`, `get_target` should return a list of four values:\n",
    "```\n",
    "[5233, 58, 10571, 27349]\n",
    "```"
   ]
  },
  {
   "cell_type": "code",
   "execution_count": 9,
   "metadata": {},
   "outputs": [
    {
     "data": {
      "text/plain": [
       "2"
      ]
     },
     "execution_count": 9,
     "metadata": {},
     "output_type": "execute_result"
    }
   ],
   "source": [
    "int(5*np.random.rand()) + 1"
   ]
  },
  {
   "cell_type": "code",
   "execution_count": 325,
   "metadata": {
    "scrolled": true
   },
   "outputs": [
    {
     "data": {
      "text/plain": [
       "[429, 28350, 3966, 13920, 10571, 27349, 15067, 58112]"
      ]
     },
     "execution_count": 325,
     "metadata": {},
     "output_type": "execute_result"
    }
   ],
   "source": [
    "def get_target(words, idx, window_size=5):\n",
    "    ''' Get a list of words in a window around an index. '''\n",
    "    \n",
    "    # implement this function\n",
    "    r = int(window_size*np.random.rand()) + 1\n",
    "    target =[]\n",
    "    for i in range(-r,r+1):\n",
    "        #example: for r = 2, idx = 2:  0 1 <2> 3 4\n",
    "        if i !=0 :\n",
    "            try:\n",
    "                #print(i+idx)\n",
    "                #print(words[idx+i])\n",
    "                target.append(words[idx+i])\n",
    "                #print(words[idx+i])\n",
    "            except IndexError:\n",
    "                try:\n",
    "                    #print(len(words))\n",
    "                    #print('index error {}'.format(idx+i))\n",
    "                    #print('set to {}'.format(idx-i))\n",
    "                    target.append(words[idx-i])   #sets to word in other end of range   \n",
    "                except IndexError:\n",
    "                    #print('index error second time {}'.format(i//abs(i)))\n",
    "                    target.append(words[i//abs(i)]) # as a last resort, set to last valid word in that direction\n",
    "                \n",
    "    return target\n",
    "\n",
    "#for word in get_target(train_words, 0, 5):\n",
    "    #print(int_to_vocab[word])\n",
    "#print(train_words[:30])\n",
    "get_target(train_words, 0, 5)"
   ]
  },
  {
   "cell_type": "code",
   "execution_count": 142,
   "metadata": {},
   "outputs": [
    {
     "data": {
      "text/plain": [
       "[-3, -2, -1, 0, 1, 2, 3]"
      ]
     },
     "execution_count": 142,
     "metadata": {},
     "output_type": "execute_result"
    }
   ],
   "source": [
    "list(range(-3,3+1))"
   ]
  },
  {
   "cell_type": "code",
   "execution_count": 191,
   "metadata": {},
   "outputs": [
    {
     "name": "stdout",
     "output_type": "stream",
     "text": [
      "Input:  [0, 1, 2, 3, 4, 5, 6, 7, 8, 9]\n",
      "Target:  [3, 4, 6, 7]\n"
     ]
    }
   ],
   "source": [
    "# test your code!\n",
    "\n",
    "# run this cell multiple times to check for random window selection\n",
    "int_text = [i for i in range(10)]\n",
    "print('Input: ', int_text)\n",
    "idx=5 # word index of interest\n",
    "\n",
    "target = get_target(int_text, idx=idx, window_size=5)\n",
    "print('Target: ', target)  # you should get some indices around the idx"
   ]
  },
  {
   "cell_type": "markdown",
   "metadata": {},
   "source": [
    "### Generating Batches \n",
    "\n",
    "Here's a generator function that returns batches of input and target data for our model, using the `get_target` function from above. The idea is that it grabs `batch_size` words from a words list. Then for each of those batches, it gets the target words in a window."
   ]
  },
  {
   "cell_type": "code",
   "execution_count": 220,
   "metadata": {},
   "outputs": [],
   "source": [
    "def get_batches(words, batch_size, window_size=5):\n",
    "    ''' Create a generator of word batches as a tuple (inputs, targets) '''\n",
    "    \n",
    "    n_batches = len(words)//batch_size\n",
    "    \n",
    "    # only full batches\n",
    "    words = words[:n_batches*batch_size]\n",
    "    \n",
    "    for idx in range(0, len(words), batch_size):\n",
    "        x, y = [], []\n",
    "        batch = words[idx:idx+batch_size]\n",
    "        for ii in range(len(batch)):\n",
    "            batch_x = batch[ii]\n",
    "            batch_y = get_target(batch, ii, window_size)\n",
    "            y.extend(batch_y)\n",
    "            x.extend([batch_x]*len(batch_y))\n",
    "        yield x, y\n",
    "    "
   ]
  },
  {
   "cell_type": "code",
   "execution_count": 193,
   "metadata": {},
   "outputs": [
    {
     "name": "stdout",
     "output_type": "stream",
     "text": [
      "5\n",
      "[0, 0, 0, 0, 0, 0, 0, 0, 1, 1, 2, 2, 3, 3, 3, 3]\n",
      "[0, 1, 2, 3, 1, 2, 3, 0, 0, 2, 1, 3, 1, 2, 2, 1]\n"
     ]
    }
   ],
   "source": [
    "print(int_text[-5])\n",
    "print(x)\n",
    "print(y)"
   ]
  },
  {
   "cell_type": "code",
   "execution_count": 233,
   "metadata": {},
   "outputs": [
    {
     "name": "stdout",
     "output_type": "stream",
     "text": [
      "4\n",
      "index error -5\n",
      "set to 5\n",
      "index error second time -1\n",
      "4\n",
      "index error 4\n",
      "set to -4\n",
      "4\n",
      "index error 5\n",
      "set to -5\n",
      "index error second time 1\n",
      "4\n",
      "index error 4\n",
      "set to -2\n",
      "4\n",
      "index error 5\n",
      "set to -3\n",
      "4\n",
      "index error 4\n",
      "set to 0\n",
      "4\n",
      "index error 4\n",
      "set to 2\n",
      "4\n",
      "index error 5\n",
      "set to 1\n",
      "4\n",
      "index error 6\n",
      "set to 0\n",
      "4\n",
      "index error 7\n",
      "set to -1\n",
      "x\n",
      " [0, 0, 0, 0, 0, 0, 0, 0, 0, 0, 1, 1, 1, 1, 1, 1, 1, 1, 2, 2, 2, 2, 3, 3, 3, 3, 3, 3, 3, 3]\n",
      "y\n",
      " [3, 0, 1, 2, 3, 1, 2, 3, 0, 1, 1, 2, 3, 0, 2, 3, 2, 1, 0, 1, 3, 0, 3, 0, 1, 2, 2, 1, 0, 3]\n"
     ]
    }
   ],
   "source": [
    "int_text = [i for i in range(20)]\n",
    "x,y = next(get_batches(int_text, batch_size=4, window_size=5))\n",
    "\n",
    "print('x\\n', x)\n",
    "print('y\\n', y)"
   ]
  },
  {
   "cell_type": "code",
   "execution_count": null,
   "metadata": {},
   "outputs": [],
   "source": []
  },
  {
   "cell_type": "markdown",
   "metadata": {},
   "source": [
    "## Building the graph\n",
    "\n",
    "Below is an approximate diagram of the general structure of our network.\n",
    "<img src=\"assets/skip_gram_arch.png\" width=60%>\n",
    "\n",
    ">* The input words are passed in as batches of input word tokens. \n",
    "* This will go into a hidden layer of linear units (our embedding layer). \n",
    "* Then, finally into a softmax output layer. \n",
    "\n",
    "We'll use the softmax layer to make a prediction about the context words by sampling, as usual.\n",
    "\n",
    "The idea here is to train the embedding layer weight matrix to find efficient representations for our words. We can discard the softmax layer because we don't really care about making predictions with this network. We just want the embedding matrix so we can use it in _other_ networks we build using this dataset."
   ]
  },
  {
   "cell_type": "markdown",
   "metadata": {},
   "source": [
    "---\n",
    "## Validation\n",
    "\n",
    "Here, I'm creating a function that will help us observe our model as it learns. We're going to choose a few common words and few uncommon words. Then, we'll print out the closest words to them using the cosine similarity: \n",
    "\n",
    "<img src=\"assets/two_vectors.png\" width=30%>\n",
    "\n",
    "$$\n",
    "\\mathrm{similarity} = \\cos(\\theta) = \\frac{\\vec{a} \\cdot \\vec{b}}{|\\vec{a}||\\vec{b}|}\n",
    "$$\n",
    "\n",
    "\n",
    "We can encode the validation words as vectors $\\vec{a}$ using the embedding table, then calculate the similarity with each word vector $\\vec{b}$ in the embedding table. With the similarities, we can print out the validation words and words in our embedding table semantically similar to those words. It's a nice way to check that our embedding table is grouping together words with similar semantic meanings."
   ]
  },
  {
   "cell_type": "code",
   "execution_count": 331,
   "metadata": {},
   "outputs": [],
   "source": [
    "def cosine_similarity(embedding, valid_size=16, valid_window=100, device='cpu'):\n",
    "    \"\"\" Returns the cosine similarity of validation words with words in the embedding matrix.\n",
    "        Here, embedding should be a PyTorch embedding module.\n",
    "    \"\"\"\n",
    "    \n",
    "    # Here we're calculating the cosine similarity between some random words and \n",
    "    # our embedding vectors. With the similarities, we can look at what words are\n",
    "    # close to our random words.\n",
    "    \n",
    "    # sim = (a . b) / |a||b|\n",
    "    \n",
    "    embed_vectors = embedding.weight\n",
    "    \n",
    "    # magnitude of embedding vectors, |b|\n",
    "    magnitudes = embed_vectors.pow(2).sum(dim=1).sqrt().unsqueeze(0)\n",
    "    \n",
    "    # pick N words from our ranges (0,window) and (1000,1000+window). lower id implies more frequent \n",
    "    valid_examples = np.array(random.sample(range(valid_window), valid_size//2))\n",
    "    valid_examples = np.append(valid_examples,\n",
    "                               random.sample(range(1000,1000+valid_window), valid_size//2))\n",
    "    valid_examples = torch.LongTensor(valid_examples).to(device)\n",
    "    \n",
    "    valid_vectors = embedding(valid_examples)\n",
    "    similarities = torch.mm(valid_vectors, embed_vectors.t())/magnitudes\n",
    "        \n",
    "    return valid_examples, similarities"
   ]
  },
  {
   "cell_type": "markdown",
   "metadata": {},
   "source": [
    "## SkipGram model\n",
    "\n",
    "Define and train the SkipGram model. \n",
    "> You'll need to define an [embedding layer](https://pytorch.org/docs/stable/nn.html#embedding) and a final, softmax output layer.\n",
    "\n",
    "An Embedding layer takes in a number of inputs, importantly:\n",
    "* **num_embeddings** – the size of the dictionary of embeddings, or how many rows you'll want in the embedding weight matrix\n",
    "* **embedding_dim** – the size of each embedding vector; the embedding dimension"
   ]
  },
  {
   "cell_type": "code",
   "execution_count": 316,
   "metadata": {},
   "outputs": [],
   "source": [
    "import torch\n",
    "from torch import nn\n",
    "import torch.optim as optim"
   ]
  },
  {
   "cell_type": "code",
   "execution_count": 336,
   "metadata": {},
   "outputs": [],
   "source": [
    "class SkipGram(nn.Module):\n",
    "    def __init__(self, n_vocab, n_embed):\n",
    "        super().__init__()\n",
    "        \n",
    "        # complete this SkipGram model\n",
    "        self.embed = nn.Embedding(num_embeddings = n_vocab,\n",
    "                                  embedding_dim = n_embed)\n",
    "        self.fc = nn.Linear(n_embed, n_vocab)\n",
    "        self.logsoftmax = nn.LogSoftmax(dim=1)\n",
    "        \n",
    "    def forward(self, x):\n",
    "        \n",
    "        # define the forward behavior\n",
    "        x = self.embed(x)\n",
    "        x = self.fc(x)\n",
    "        x = self.logsoftmax(x)\n",
    "        return x"
   ]
  },
  {
   "cell_type": "markdown",
   "metadata": {},
   "source": [
    "### Training\n",
    "\n",
    "Below is our training loop, and I recommend that you train on GPU, if available.\n",
    "\n",
    "**Note that, because we applied a softmax function to our model output, we are using NLLLoss** as opposed to cross entropy. This is because Softmax  in combination with NLLLoss = CrossEntropy loss ."
   ]
  },
  {
   "cell_type": "code",
   "execution_count": 335,
   "metadata": {
    "scrolled": true
   },
   "outputs": [
    {
     "name": "stdout",
     "output_type": "stream",
     "text": [
      "was | facile, stillwater, alcohols, franca, lackey\n",
      "not | pianist, pictorial, coretta, cautionary, cocaine\n",
      "world | spacious, going, unreadable, setter, nymphs\n",
      "over | contrastive, sturgeon, lessens, chissano, paternalism\n",
      "or | monticello, attractive, horned, grotesque, beli\n",
      "up | transition, voir, soundtrack, wallace, chagas\n",
      "from | discourse, educations, bribing, guile, evolutionism\n",
      "five | carbohydrate, numerically, ruthenians, angiography, med\n",
      "shows | episodes, baffled, fournier, akkadian, poked\n",
      "creation | fertiliser, pollinator, aurobindo, lut, sundarbans\n",
      "numerous | convert, hydrocodone, tongues, dorothy, lucan\n",
      "applied | searchers, nuisances, offender, slapped, byzantine\n",
      "engineering | burnt, fukuda, mosiah, hagen, ribald\n",
      "existence | intellivision, tng, hirata, zahn, unction\n",
      "alternative | pampas, astronauts, oxidizes, stature, wounded\n",
      "powers | therapist, mascot, boo, matchup, rosario\n",
      "...\n",
      "for | nikolai, conservatorship, winchell, sem, metheny\n",
      "its | enne, mallard, flowed, atman, suppl\n",
      "on | anxiolytic, camcorder, rial, rioted, shudo\n",
      "such | correspondences, harriers, khalkha, piet, televised\n",
      "so | synthesisers, sick, duplicity, yes, slight\n",
      "that | cancerous, zmir, antidepressant, theatrically, undress\n",
      "time | lighted, irritant, heiden, flannel, succesor\n",
      "who | paran, scavenger, ayyubid, solitaire, dna\n",
      "professional | elegant, kzinti, journ, saucer, hegelians\n",
      "issue | tweet, dictatorship, coaster, mechanical, multitudes\n",
      "older | deuteronomist, lamboyo, delany, movies, invective\n",
      "http | broadleaf, consubstantiation, suffragan, boas, electrons\n",
      "report | horsepower, emporis, kahn, capitals, fairy\n",
      "san | vocally, parachutes, erin, mikoyan, thea\n",
      "something | schwerner, rigorous, immigrate, dbase, endeavor\n",
      "centre | limestones, sparkling, compute, dhrystone, carbon\n",
      "...\n",
      "that | cancerous, zmir, theatrically, antidepressant, undress\n",
      "no | erina, nuns, manifested, erection, deconstructionist\n",
      "their | conjunct, oldham, hides, ballot, tchad\n",
      "this | hypothermia, galen, debayle, noll, piotr\n",
      "is | messalina, attendants, detail, mauritania, bigger\n",
      "years | faso, necropolis, wisc, cameras, gaps\n",
      "between | techtv, hamptons, layout, physik, couple\n",
      "over | contrastive, lessens, genoa, chissano, paternalism\n",
      "assembly | unn, reburied, sparrow, species, misalignment\n",
      "heavy | pointed, rif, apc, establish, spitz\n",
      "proposed | melba, mottled, soldiers, comrade, dismount\n",
      "operations | bent, logik, kimi, sansom, lads\n",
      "hit | cruz, ambition, kay, casey, jonas\n",
      "numerous | convert, tongues, hydrocodone, beginnings, lucan\n",
      "notes | displays, lustre, clearance, rightful, fanaticism\n",
      "grand | iblis, boles, amphibious, menelaus, ta\n",
      "...\n",
      "called | poet, snows, repeatedly, intolerable, ry\n",
      "of | stein, gall, os, front, engagement\n",
      "also | indirectly, statistics, going, footballer, fluently\n",
      "be | conformal, skirmish, mnd, profound, confessed\n",
      "i | dagmar, hangings, tide, prompted, nihil\n",
      "on | anxiolytic, camcorder, shudo, promise, rial\n",
      "and | enshrined, panspermia, airdrop, booty, glossary\n",
      "is | messalina, fans, attendants, looks, bigger\n",
      "shown | aired, needed, gulf, contrastive, conquer\n",
      "grand | ta, iblis, boles, institutions, amphibious\n",
      "event | resign, july, ultimate, thrown, predates\n",
      "heavy | pointed, rif, establish, apc, geometry\n",
      "proposed | melba, opponents, mottled, soldiers, beckwith\n",
      "dr | baluchistan, nomadic, annibale, soir, blantyre\n",
      "behind | stops, gnosticism, della, suffrage, prescribe\n",
      "issue | tweet, coaster, individualism, mechanical, dictatorship\n",
      "...\n",
      "over | contrastive, fine, needed, lessens, genoa\n",
      "while | farah, balance, cub, momentous, conjectures\n",
      "been | formation, pungent, expulsion, episode, abstained\n",
      "american | wayne, usual, walid, observe, gleaned\n",
      "that | cancerous, zmir, theatrically, shippers, antidepressant\n",
      "system | amer, proviso, urdu, winning, cedars\n",
      "all | rstendamm, edit, propulsion, udeac, martinez\n",
      "used | libido, irt, domiciled, decline, captains\n",
      "woman | malibu, asahel, christianity, confrontation, hospitalization\n",
      "centre | downtown, carbon, reduce, limestones, stationery\n",
      "heavy | pointed, rif, establish, apc, geometry\n",
      "pope | practises, alms, opponents, reclining, sam\n",
      "freedom | clumsy, potions, pun, implied, theater\n",
      "existence | intellivision, tng, seceding, hirata, unction\n",
      "stage | registered, consubstantiation, etymologically, equilibrium, extreme\n",
      "animals | tabla, invasion, fv, combination, excommunicating\n",
      "...\n",
      "used | irt, libido, domiciled, decline, capacitance\n",
      "were | currently, descent, patten, technology, engineer\n",
      "some | beehive, tend, floyd, botham, poems\n",
      "as | physiologically, mandelstam, quirks, affords, fracture\n",
      "been | formation, expulsion, episode, pungent, abstained\n",
      "united | precipitation, saxophonist, fine, distinctly, event\n",
      "their | nor, accept, protestant, worldwide, conjunct\n",
      "b | inclination, savonarola, null, cyrillic, tiny\n",
      "writers | layers, worldwide, extreme, lutheran, tv\n",
      "prince | bestselling, mimi, contradicting, tutuila, madero\n",
      "shows | episodes, accept, regular, needed, otherwise\n",
      "additional | hussein, freas, pereira, institute, zoo\n",
      "ice | martenot, regal, represents, koran, reece\n",
      "heavy | pointed, establish, geometry, rif, apc\n",
      "mainly | hu, strathcona, delineated, mothman, subshell\n",
      "marriage | ambassadors, worship, augustine, harbours, compels\n",
      "...\n",
      "into | remainder, tolerance, referring, perennially, arms\n",
      "be | conformal, skirmish, rational, mnd, profound\n",
      "this | galen, piotr, hypothermia, sandinistas, benefit\n",
      "about | divisions, don, remainder, hot, follow\n",
      "time | winning, protestant, act, kind, extension\n",
      "during | complete, supplements, rational, let, jolly\n",
      "he | phrase, gaines, fine, canarian, needed\n",
      "new | result, massive, highlands, anglicans, david\n",
      "assembly | incident, kept, functions, branches, unn\n",
      "heavy | pointed, establish, geometry, advance, apc\n",
      "test | avoid, needed, twenty, tend, mid\n",
      "powers | therapist, mascot, property, researchers, particular\n",
      "lived | fact, black, hopkinson, perl, electron\n",
      "pre | technique, tend, avoid, transition, difference\n",
      "event | loss, break, gives, avoid, dropped\n",
      "except | compared, avoid, massachusetts, runs, restricted\n",
      "...\n",
      "also | statistics, going, indirectly, answer, avoid\n",
      "american | wayne, observe, usual, oriented, villages\n",
      "history | details, gives, increased, reasons, decisive\n",
      "or | attractive, says, genitive, beli, monticello\n",
      "where | reduce, declined, ocean, literally, brutally\n",
      "th | exactly, standards, accept, becomes, excess\n",
      "was | effectively, franca, alcohols, subjects, facile\n",
      "a | seniority, starts, infringing, naked, mombasa\n",
      "bill | heart, advanced, questions, accept, rare\n",
      "orthodox | tend, exactly, involving, combination, entry\n",
      "bible | protestant, occurring, description, worldwide, then\n",
      "quite | combination, avoid, vite, rare, damage\n",
      "behind | advanced, combination, extreme, needed, avoid\n",
      "professional | meetings, denominated, planning, assembly, standing\n",
      "san | grow, integrated, tend, timber, navy\n",
      "recorded | needed, decades, completed, going, occurred\n",
      "...\n",
      "see | rising, arms, spent, identical, kind\n",
      "a | starts, naked, infringing, seniority, mombasa\n",
      "years | secondary, needed, leads, defines, fifth\n",
      "so | standing, fifth, engine, evil, fully\n",
      "and | enshrined, glossary, gained, degradation, technology\n",
      "been | formation, expulsion, episode, pungent, difference\n",
      "has | pollinators, departs, reservoirs, morphemes, maryam\n",
      "while | warm, balance, factor, arguably, sold\n",
      "alternative | earliest, carries, waves, wounded, interest\n",
      "hit | cruz, grandma, greed, ambition, quer\n",
      "quite | avoid, combination, damage, matthew, rare\n",
      "versions | carl, songs, speak, phase, winning\n",
      "frac | needed, involving, authorities, extreme, publication\n",
      "joseph | officials, montage, fought, phrase, ransom\n",
      "operating | truth, combined, granted, taxi, fully\n",
      "test | oriented, mid, avoid, twenty, needed\n",
      "...\n",
      "their | nor, accept, protestant, worldwide, records\n",
      "after | result, dress, titles, ca, subsection\n",
      "five | mother, judicial, younger, fans, opening\n",
      "people | opposing, sunk, greatly, literally, shift\n",
      "is | looks, fans, detail, appeared, attendants\n",
      "are | exist, questions, variety, provides, fan\n",
      "time | winning, jean, fifth, reduce, protestant\n",
      "war | uncertain, decades, wanted, reaction, answer\n",
      "derived | kept, read, subsequent, judicial, add\n",
      "existence | advanced, poet, achieved, defines, argued\n",
      "powers | researchers, therapist, property, green, particular\n",
      "frac | needed, involving, authorities, poor, understand\n",
      "writers | description, worldwide, avoid, compared, audience\n",
      "cost | discussion, subsequent, reasons, regarded, leadership\n",
      "operating | truth, combined, granted, proposed, fully\n",
      "know | contribution, him, alternating, constituency, paradis\n",
      "...\n"
     ]
    },
    {
     "name": "stdout",
     "output_type": "stream",
     "text": [
      "these | balderus, twice, journal, willis, proved\n",
      "to | save, czech, mathematical, win, respectively\n",
      "during | complete, let, rational, partners, translated\n",
      "all | oz, rstendamm, propulsion, edit, martinez\n",
      "th | improved, standards, exactly, accept, excess\n",
      "between | acting, driving, seems, requires, previous\n",
      "where | educated, declined, reduce, leaving, ocean\n",
      "an | conway, au, resentments, hearts, archeological\n",
      "experience | characteristics, texts, argued, break, runs\n",
      "shown | needed, pro, reasons, mathematical, opponents\n",
      "police | slightly, rare, publication, extreme, reasons\n",
      "ice | achieved, useful, accept, regarded, going\n",
      "mainly | twenty, opened, usage, publication, arms\n",
      "operating | truth, combined, fully, proposed, granted\n",
      "centre | decades, reduce, kept, tend, rare\n",
      "accepted | generation, combination, involving, arms, really\n",
      "...\n",
      "while | reaching, expressed, arguably, warm, factor\n",
      "three | decades, gained, twenty, iv, statistics\n",
      "all | oz, commons, rstendamm, propulsion, opportunities\n",
      "are | exist, variety, merely, fan, quite\n",
      "such | argued, combined, respectively, readers, result\n",
      "new | shape, result, tradition, contribute, massive\n",
      "its | conference, danish, host, worldwide, comparison\n",
      "and | gained, glossary, lies, believed, enshrined\n",
      "lived | fact, protestant, reasons, exactly, ca\n",
      "mainly | twenty, opened, arms, origins, publication\n",
      "bible | argue, protestant, twenty, description, intended\n",
      "resources | combination, gives, contemporary, avoid, accept\n",
      "instance | extreme, leadership, formation, texts, appearance\n",
      "http | considerably, audience, nor, secondary, mining\n",
      "experience | texts, characteristics, break, runs, argued\n",
      "older | description, dropped, pay, audience, unlike\n",
      "...\n",
      "are | exist, quite, merely, receiving, variety\n",
      "six | industry, generation, total, fans, golden\n",
      "has | reservoirs, pollinators, morphemes, health, departs\n",
      "than | ultimate, door, elizabeth, angeles, defeat\n",
      "this | understanding, theories, seas, benefit, start\n",
      "as | star, borders, barton, differentiation, property\n",
      "where | educated, declined, reduce, ocean, synthesis\n",
      "called | poet, containing, exception, theme, otherwise\n",
      "numerous | theme, tend, assumed, extreme, completed\n",
      "ice | useful, accept, connection, sites, defeat\n",
      "professional | compared, alone, standing, crime, achieved\n",
      "something | fine, going, apparently, otherwise, observed\n",
      "applied | combination, discussion, kept, subsequent, entry\n",
      "egypt | initial, wanted, nothing, speak, formation\n",
      "consists | chief, decades, pay, seat, initial\n",
      "troops | reasons, otherwise, apparent, regarded, activity\n",
      "...\n",
      "can | result, distances, connected, ultimate, encourage\n",
      "be | rational, storage, previously, studying, controversial\n",
      "zero | leadership, opened, expected, going, understood\n",
      "one | three, elizabeth, victory, iv, properly\n",
      "if | increasing, carries, plays, journal, stance\n",
      "their | nor, gained, reading, accept, explanation\n",
      "b | three, mining, taught, banned, essential\n",
      "while | reaching, arguably, expressed, warm, harmony\n",
      "except | characteristics, tend, decades, subsequently, combination\n",
      "notes | peoples, contemporary, occurred, reduced, wanted\n",
      "bbc | winning, question, nothing, speak, subsequent\n",
      "police | rare, slightly, discussion, opponents, extreme\n",
      "test | expected, mother, avoid, mid, reduce\n",
      "egypt | initial, wanted, nothing, speak, decades\n",
      "discovered | route, involving, argued, avoid, argue\n",
      "derived | kept, judicial, appearance, otherwise, subsequent\n",
      "...\n",
      "between | woman, driving, attempts, continue, acting\n",
      "a | starts, naked, today, seniority, triggered\n",
      "during | deaths, complete, partners, went, translated\n",
      "that | production, designer, target, electric, prefer\n",
      "no | specifically, lay, processes, legend, mean\n",
      "use | lot, heavy, strongly, lies, transformed\n",
      "th | excess, villages, journey, improved, standards\n",
      "more | spread, titles, heart, friends, meeting\n",
      "magazine | articles, prominent, ended, otherwise, authorities\n",
      "http | considerably, audience, mining, nor, approach\n",
      "placed | keep, prominent, respectively, discussion, description\n",
      "event | completed, dropped, argued, break, regarded\n",
      "engineering | declared, apparently, leadership, involving, provides\n",
      "award | leads, interested, proposed, places, commission\n",
      "resources | combination, gives, discussion, contemporary, avoid\n",
      "gold | resulted, pay, runs, gained, fans\n",
      "...\n",
      "by | essay, requirements, link, felt, writers\n",
      "be | rational, previously, storage, besides, studying\n",
      "his | complexity, characteristic, bachelor, billion, elections\n",
      "that | production, designer, target, electric, prices\n",
      "other | limitations, portrayed, heads, contrary, separate\n",
      "its | conference, comparison, danish, tv, metal\n",
      "will | components, review, traced, populations, citizens\n",
      "seven | gained, opened, younger, debate, come\n",
      "creation | hard, widely, doing, seems, studying\n",
      "nobel | spiritual, simon, application, texts, growing\n",
      "mainly | twenty, towns, origins, combination, opened\n",
      "resources | combination, gives, discussion, comedy, contemporary\n",
      "active | discussion, completed, combination, reach, identified\n",
      "applications | ended, occurred, restricted, needed, factor\n",
      "placed | keep, prominent, respectively, discussion, description\n",
      "http | considerably, audience, traditionally, mining, nor\n",
      "...\n",
      "united | relatively, actual, impossible, louis, requires\n",
      "states | ends, gives, celebrated, engine, matters\n",
      "can | result, connected, distances, raised, ultimate\n",
      "he | morning, quick, phrase, bottom, provides\n",
      "that | production, designer, target, electric, prices\n",
      "with | troops, passing, green, double, appeared\n",
      "such | combined, argued, nuclear, shift, readers\n",
      "this | understanding, seas, theories, benefit, medicine\n",
      "orthodox | helped, citizens, lives, exactly, tend\n",
      "mean | importance, otherwise, combination, wealth, poor\n",
      "notes | perform, contemporary, mediterranean, peoples, media\n",
      "discovered | route, involving, argued, avoid, argue\n",
      "primarily | authorities, officers, combination, reduce, prominent\n",
      "recorded | sister, entry, going, formation, needed\n",
      "ocean | composition, recognized, statistics, allows, subsequently\n",
      "rise | hands, thousands, look, explanation, ago\n",
      "...\n",
      "some | desert, took, poems, believe, bad\n",
      "over | composed, chamber, fine, fire, served\n",
      "the | save, guide, ground, defence, female\n",
      "see | pattern, stopped, arms, studying, strong\n",
      "more | titles, meeting, friends, heart, spread\n",
      "however | christ, participating, accompanied, maintained, pass\n",
      "is | school, looks, dog, strong, none\n",
      "be | gas, assigned, previously, rational, properties\n",
      "nobel | laureate, spiritual, application, texts, winner\n",
      "magazine | otherwise, prominent, authorities, discussion, articles\n",
      "except | destroyed, characteristics, grant, subsequently, reduced\n",
      "ice | transfer, distinguish, defeat, connection, proposed\n",
      "institute | entered, arms, prominent, merely, wanted\n",
      "bill | amounts, inside, heart, administrative, regarded\n",
      "police | opponents, supposed, rare, slightly, discussion\n",
      "channel | finance, abbreviated, predecessor, sex, dropped\n",
      "...\n",
      "such | combined, nuclear, argued, shift, ground\n",
      "at | services, appear, pennsylvania, neil, receive\n",
      "or | attractive, bands, third, cultures, says\n",
      "years | joe, method, care, shall, advantage\n",
      "state | religious, winter, producer, celebrated, reduce\n",
      "united | relatively, actual, impossible, requires, didn\n",
      "all | opportunities, oz, formed, homosexuality, propulsion\n",
      "these | occurs, nation, file, producers, incorporated\n",
      "ocean | composition, astronomical, recognized, inc, statistics\n",
      "recorded | sister, formation, entry, going, coming\n",
      "woman | criticism, establishment, featured, combination, settled\n",
      "grand | runs, opposed, increases, institutions, route\n",
      "hit | really, occupied, contributions, regarded, activity\n",
      "frac | discovery, understand, poor, needed, failure\n",
      "joseph | yet, carried, gain, officials, forming\n",
      "lived | felt, existing, relative, spent, protestant\n",
      "...\n",
      "was | effectively, subjects, influenced, cup, replace\n",
      "no | sharp, conquered, specifically, processes, lay\n",
      "world | estimates, describe, mail, school, hydrogen\n",
      "between | sovereignty, woman, taking, featured, philosophical\n",
      "while | harmony, warm, reaching, expressed, arguably\n",
      "during | complete, deaths, monitor, partners, went\n",
      "used | debut, monitor, daniel, regularly, remember\n",
      "after | os, whom, nasa, municipal, property\n",
      "file | supporting, cannot, leadership, fixed, chris\n",
      "recorded | sister, entry, formation, going, carried\n",
      "assembly | depending, incident, identical, doctor, progress\n",
      "lived | felt, existing, relative, spent, protestant\n",
      "channel | finance, abbreviated, predecessor, sex, dropped\n",
      "bible | argue, protestant, spent, grew, difference\n",
      "quite | growing, respectively, difference, inspired, stadium\n",
      "bbc | winning, split, percentage, weapons, spent\n",
      "...\n"
     ]
    },
    {
     "name": "stdout",
     "output_type": "stream",
     "text": [
      "three | zero, gained, my, victory, teams\n",
      "are | fan, exist, complete, root, count\n",
      "one | three, zero, my, victory, nine\n",
      "b | three, one, franz, guy, banned\n",
      "see | stopped, pattern, strong, minimal, studying\n",
      "from | discourse, office, settled, vehicles, ft\n",
      "other | billy, thereafter, limitations, portrayed, simplest\n",
      "while | harmony, expressed, reaching, warm, arguably\n",
      "construction | nd, covered, incorporated, douglas, characteristics\n",
      "marriage | appearance, mid, let, properly, kept\n",
      "liberal | begin, essential, regional, bring, creator\n",
      "active | formal, contact, earl, discussion, combination\n",
      "paris | influences, confirmed, purposes, pro, frank\n",
      "existence | poet, achieved, score, argued, friends\n",
      "hit | really, occupied, contributions, regarded, activity\n",
      "channel | finance, predecessor, abbreviated, fifth, sex\n",
      "...\n",
      "see | stopped, pattern, minimal, strong, studying\n",
      "of | school, true, close, taking, historians\n",
      "be | gas, assigned, true, nature, kb\n",
      "people | satellite, save, rings, third, thousands\n",
      "which | substantially, allegations, true, guide, promote\n",
      "i | studio, accompanied, journal, producer, medical\n",
      "so | export, bruce, silver, integration, taking\n",
      "however | christ, participating, maintained, pass, accompanied\n",
      "pre | indeed, movies, enemy, demand, ask\n",
      "placed | keep, publishing, matthew, respectively, ray\n",
      "report | offered, generation, draft, plans, sweden\n",
      "primarily | authorities, et, officers, naval, strategic\n",
      "marriage | appearance, degrees, let, kept, mid\n",
      "professional | whereas, failed, ca, spent, studying\n",
      "award | leads, interested, training, classical, desire\n",
      "scale | application, price, join, exclusively, bruce\n",
      "...\n",
      "such | combined, defined, shift, argued, date\n",
      "these | producers, occurs, nation, file, divided\n",
      "american | one, nine, three, atmosphere, philosopher\n",
      "during | settings, complete, monitor, deaths, went\n",
      "all | formed, opportunities, oz, bell, commons\n",
      "or | attractive, named, neck, third, bands\n",
      "however | participating, christ, maintained, accompanied, pass\n",
      "will | components, traced, historically, citizens, review\n",
      "ice | transfer, distinguish, continue, connection, chairman\n",
      "pressure | closely, launched, briefly, educated, difference\n",
      "egypt | asked, initial, beings, nothing, decades\n",
      "award | leads, interested, training, classical, desire\n",
      "active | formal, contact, poetry, earl, discussion\n",
      "behind | inspired, amongst, learn, continental, asian\n",
      "police | opponents, supposed, increasing, rare, discussion\n",
      "brother | toward, refused, fine, successor, county\n",
      "...\n",
      "called | der, encounter, repeatedly, earned, express\n",
      "can | acceptance, result, labor, mhz, relationship\n",
      "time | preferred, metal, schools, suggested, michael\n",
      "seven | debate, expressed, changing, come, three\n",
      "would | plane, hundreds, reach, backed, schools\n",
      "years | joe, senior, shall, method, entitled\n",
      "world | estimates, mail, saved, describe, school\n",
      "which | allegations, substantially, true, guide, division\n",
      "versions | speak, occurred, artist, legislation, carl\n",
      "question | nor, helped, media, height, expression\n",
      "primarily | authorities, et, officers, naval, rules\n",
      "joseph | yet, carried, gain, forming, ready\n",
      "articles | possibly, weeks, promote, feel, regular\n",
      "hold | significantly, easy, transport, agriculture, relatively\n",
      "pressure | closely, launched, briefly, educated, difference\n",
      "discovered | route, owned, kg, assigned, demonstrated\n",
      "...\n",
      "american | one, nine, three, atmosphere, philosopher\n",
      "be | gas, true, nature, assigned, sensitive\n",
      "one | three, zero, nine, my, victory\n",
      "nine | my, zero, pointed, debate, claims\n",
      "i | studio, journal, accompanied, producer, coming\n",
      "which | allegations, substantially, true, guide, division\n",
      "use | burns, famous, near, heavy, strongly\n",
      "to | quick, none, entitled, senior, weight\n",
      "issue | describes, removed, understood, exchange, find\n",
      "account | involving, crime, resulting, background, commentary\n",
      "road | focus, obtained, deal, inhabitants, finished\n",
      "taking | awarded, describe, viewed, serving, mining\n",
      "pressure | closely, launched, briefly, educated, nineteenth\n",
      "existence | seeing, score, review, foundation, britain\n",
      "cost | factors, seems, roll, trace, regarded\n",
      "know | rates, sub, promoted, episode, finding\n",
      "...\n",
      "by | essay, mid, requirements, walls, samuel\n",
      "when | finally, nuclear, single, stating, smooth\n",
      "an | qur, days, years, to, option\n",
      "most | traditional, according, meaning, citizens, colour\n",
      "not | none, senior, gave, citizens, parliamentary\n",
      "people | rings, satellite, save, tail, third\n",
      "with | disputes, passing, references, queen, indigenous\n",
      "its | moderate, di, position, danish, tv\n",
      "dr | banned, opportunity, wind, scottish, tend\n",
      "animals | fast, dark, nearby, break, guitarist\n",
      "file | supporting, cannot, chris, musician, leadership\n",
      "award | leads, interested, training, classical, desire\n",
      "stage | protestant, store, specified, mostly, argument\n",
      "liberal | begin, essential, regional, bring, creator\n",
      "hold | significantly, easy, transport, gave, agriculture\n",
      "discovered | route, owned, demonstrated, assigned, kg\n",
      "...\n"
     ]
    },
    {
     "ename": "KeyboardInterrupt",
     "evalue": "",
     "output_type": "error",
     "traceback": [
      "\u001b[1;31m---------------------------------------------------------------------------\u001b[0m",
      "\u001b[1;31mKeyboardInterrupt\u001b[0m                         Traceback (most recent call last)",
      "\u001b[1;32m<ipython-input-335-90f3de4e9f0b>\u001b[0m in \u001b[0;36m<module>\u001b[1;34m\u001b[0m\n\u001b[0;32m     24\u001b[0m         \u001b[0mloss\u001b[0m \u001b[1;33m=\u001b[0m \u001b[0mcriterion\u001b[0m\u001b[1;33m(\u001b[0m\u001b[0mlog_ps\u001b[0m\u001b[1;33m,\u001b[0m \u001b[0mtargets\u001b[0m\u001b[1;33m)\u001b[0m\u001b[1;33m\u001b[0m\u001b[1;33m\u001b[0m\u001b[0m\n\u001b[0;32m     25\u001b[0m         \u001b[0moptimizer\u001b[0m\u001b[1;33m.\u001b[0m\u001b[0mzero_grad\u001b[0m\u001b[1;33m(\u001b[0m\u001b[1;33m)\u001b[0m\u001b[1;33m\u001b[0m\u001b[1;33m\u001b[0m\u001b[0m\n\u001b[1;32m---> 26\u001b[1;33m         \u001b[0mloss\u001b[0m\u001b[1;33m.\u001b[0m\u001b[0mbackward\u001b[0m\u001b[1;33m(\u001b[0m\u001b[1;33m)\u001b[0m\u001b[1;33m\u001b[0m\u001b[1;33m\u001b[0m\u001b[0m\n\u001b[0m\u001b[0;32m     27\u001b[0m         \u001b[0moptimizer\u001b[0m\u001b[1;33m.\u001b[0m\u001b[0mstep\u001b[0m\u001b[1;33m(\u001b[0m\u001b[1;33m)\u001b[0m\u001b[1;33m\u001b[0m\u001b[1;33m\u001b[0m\u001b[0m\n\u001b[0;32m     28\u001b[0m \u001b[1;33m\u001b[0m\u001b[0m\n",
      "\u001b[1;32mD:\\Anaconda3_2nd\\envs\\jupyter_environment\\lib\\site-packages\\torch\\tensor.py\u001b[0m in \u001b[0;36mbackward\u001b[1;34m(self, gradient, retain_graph, create_graph)\u001b[0m\n\u001b[0;32m    196\u001b[0m                 \u001b[0mproducts\u001b[0m\u001b[1;33m.\u001b[0m \u001b[0mDefaults\u001b[0m \u001b[0mto\u001b[0m\u001b[0;31m \u001b[0m\u001b[0;31m`\u001b[0m\u001b[0;31m`\u001b[0m\u001b[1;32mFalse\u001b[0m\u001b[0;31m`\u001b[0m\u001b[0;31m`\u001b[0m\u001b[1;33m.\u001b[0m\u001b[1;33m\u001b[0m\u001b[1;33m\u001b[0m\u001b[0m\n\u001b[0;32m    197\u001b[0m         \"\"\"\n\u001b[1;32m--> 198\u001b[1;33m         \u001b[0mtorch\u001b[0m\u001b[1;33m.\u001b[0m\u001b[0mautograd\u001b[0m\u001b[1;33m.\u001b[0m\u001b[0mbackward\u001b[0m\u001b[1;33m(\u001b[0m\u001b[0mself\u001b[0m\u001b[1;33m,\u001b[0m \u001b[0mgradient\u001b[0m\u001b[1;33m,\u001b[0m \u001b[0mretain_graph\u001b[0m\u001b[1;33m,\u001b[0m \u001b[0mcreate_graph\u001b[0m\u001b[1;33m)\u001b[0m\u001b[1;33m\u001b[0m\u001b[1;33m\u001b[0m\u001b[0m\n\u001b[0m\u001b[0;32m    199\u001b[0m \u001b[1;33m\u001b[0m\u001b[0m\n\u001b[0;32m    200\u001b[0m     \u001b[1;32mdef\u001b[0m \u001b[0mregister_hook\u001b[0m\u001b[1;33m(\u001b[0m\u001b[0mself\u001b[0m\u001b[1;33m,\u001b[0m \u001b[0mhook\u001b[0m\u001b[1;33m)\u001b[0m\u001b[1;33m:\u001b[0m\u001b[1;33m\u001b[0m\u001b[1;33m\u001b[0m\u001b[0m\n",
      "\u001b[1;32mD:\\Anaconda3_2nd\\envs\\jupyter_environment\\lib\\site-packages\\torch\\autograd\\__init__.py\u001b[0m in \u001b[0;36mbackward\u001b[1;34m(tensors, grad_tensors, retain_graph, create_graph, grad_variables)\u001b[0m\n\u001b[0;32m     98\u001b[0m     Variable._execution_engine.run_backward(\n\u001b[0;32m     99\u001b[0m         \u001b[0mtensors\u001b[0m\u001b[1;33m,\u001b[0m \u001b[0mgrad_tensors\u001b[0m\u001b[1;33m,\u001b[0m \u001b[0mretain_graph\u001b[0m\u001b[1;33m,\u001b[0m \u001b[0mcreate_graph\u001b[0m\u001b[1;33m,\u001b[0m\u001b[1;33m\u001b[0m\u001b[1;33m\u001b[0m\u001b[0m\n\u001b[1;32m--> 100\u001b[1;33m         allow_unreachable=True)  # allow_unreachable flag\n\u001b[0m\u001b[0;32m    101\u001b[0m \u001b[1;33m\u001b[0m\u001b[0m\n\u001b[0;32m    102\u001b[0m \u001b[1;33m\u001b[0m\u001b[0m\n",
      "\u001b[1;31mKeyboardInterrupt\u001b[0m: "
     ]
    }
   ],
   "source": [
    "# check if GPU is available\n",
    "device = 'cuda' if torch.cuda.is_available() else 'cpu'\n",
    "\n",
    "embedding_dim=300 # you can change, if you want\n",
    "\n",
    "model = SkipGram(len(vocab_to_int), embedding_dim).to(device)\n",
    "criterion = nn.NLLLoss()\n",
    "optimizer = optim.Adam(model.parameters(), lr=0.003)\n",
    "\n",
    "print_every = 500\n",
    "steps = 0\n",
    "epochs = 2\n",
    "\n",
    "# train for some number of epochs\n",
    "for e in range(epochs):\n",
    "    \n",
    "    # get input and target batches\n",
    "    for inputs, targets in get_batches(train_words, 512):\n",
    "        steps += 1\n",
    "        inputs, targets = torch.LongTensor(inputs), torch.LongTensor(targets)\n",
    "        inputs, targets = inputs.to(device), targets.to(device)\n",
    "        \n",
    "        log_ps = model(inputs)\n",
    "        loss = criterion(log_ps, targets)\n",
    "        optimizer.zero_grad()\n",
    "        loss.backward()\n",
    "        optimizer.step()\n",
    "\n",
    "        if steps % print_every == 0:                  \n",
    "            # getting examples and similarities      \n",
    "            valid_examples, valid_similarities = cosine_similarity(model.embed, device=device)\n",
    "            _, closest_idxs = valid_similarities.topk(6) # topk highest similarities\n",
    "            \n",
    "            valid_examples, closest_idxs = valid_examples.to('cpu'), closest_idxs.to('cpu')\n",
    "            for ii, valid_idx in enumerate(valid_examples):\n",
    "                closest_words = [int_to_vocab[idx.item()] for idx in closest_idxs[ii]][1:]\n",
    "                print(int_to_vocab[valid_idx.item()] + \" | \" + ', '.join(closest_words))\n",
    "            print(\"...\")"
   ]
  },
  {
   "cell_type": "markdown",
   "metadata": {},
   "source": [
    "## Visualizing the word vectors\n",
    "\n",
    "Below we'll use T-SNE to visualize how our high-dimensional word vectors cluster together. T-SNE is used to project these vectors into two dimensions while preserving local stucture. Check out [this post from Christopher Olah](http://colah.github.io/posts/2014-10-Visualizing-MNIST/) to learn more about T-SNE and other ways to visualize high-dimensional data."
   ]
  },
  {
   "cell_type": "code",
   "execution_count": null,
   "metadata": {
    "collapsed": true
   },
   "outputs": [],
   "source": [
    "%matplotlib inline\n",
    "%config InlineBackend.figure_format = 'retina'\n",
    "\n",
    "import matplotlib.pyplot as plt\n",
    "from sklearn.manifold import TSNE"
   ]
  },
  {
   "cell_type": "code",
   "execution_count": null,
   "metadata": {
    "collapsed": true
   },
   "outputs": [],
   "source": [
    "# getting embeddings from the embedding layer of our model, by name\n",
    "embeddings = model.embed.weight.to('cpu').data.numpy()"
   ]
  },
  {
   "cell_type": "code",
   "execution_count": null,
   "metadata": {
    "collapsed": true
   },
   "outputs": [],
   "source": [
    "viz_words = 600\n",
    "tsne = TSNE()\n",
    "embed_tsne = tsne.fit_transform(embeddings[:viz_words, :])"
   ]
  },
  {
   "cell_type": "code",
   "execution_count": null,
   "metadata": {
    "collapsed": true
   },
   "outputs": [],
   "source": [
    "fig, ax = plt.subplots(figsize=(16, 16))\n",
    "for idx in range(viz_words):\n",
    "    plt.scatter(*embed_tsne[idx, :], color='steelblue')\n",
    "    plt.annotate(int_to_vocab[idx], (embed_tsne[idx, 0], embed_tsne[idx, 1]), alpha=0.7)"
   ]
  },
  {
   "cell_type": "code",
   "execution_count": null,
   "metadata": {
    "collapsed": true
   },
   "outputs": [],
   "source": []
  }
 ],
 "metadata": {
  "kernelspec": {
   "display_name": "Python 3",
   "language": "python",
   "name": "python3"
  },
  "language_info": {
   "codemirror_mode": {
    "name": "ipython",
    "version": 3
   },
   "file_extension": ".py",
   "mimetype": "text/x-python",
   "name": "python",
   "nbconvert_exporter": "python",
   "pygments_lexer": "ipython3",
   "version": "3.7.7"
  }
 },
 "nbformat": 4,
 "nbformat_minor": 2
}
